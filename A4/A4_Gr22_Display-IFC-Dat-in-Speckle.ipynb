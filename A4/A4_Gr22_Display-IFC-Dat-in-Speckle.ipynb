{
 "cells": [
  {
   "cell_type": "markdown",
   "metadata": {},
   "source": [
    "# How to display IFC data in Speckle\n",
    "\n",
    "## Summary\n",
    "This notebook is a tutorial about learning how to display Objects and their data in the Speckle viewer.\n",
    "Speckle is an open-source platform for sharing and managing data between different software tools, \n",
    "enabling real-time collaboration and seamless data exchange in architecture, engineering, and construction projects.\n",
    "\n",
    "This tutorial covers three excercises (Examples) for you to discover te possibility of viewing IFC Objects and their associated data in Speckle\n",
    "    Example 1: One column (Send one column from the IFC file to speckle)\n",
    "    Example 2: All columns (Display all columns coloured after their uniqe type in speckle)\n",
    "    Example 3: slabs (Display slabs in Speckle coloured by type)\n",
    "\n",
    "## Get started\n",
    "First, set up a Speckle account by installing a Speckle manager and connecting it to your personal account. Under https://app.speckle.systems/projects create/chose a project in which you want to recieve the Data. Once you click on the Project of your choice the speckle stream ID appears in the URL https://app.speckle.systems/projects/2a3df00e3e (The number-letter combination after projects/)\n",
    "\n",
    "Now, that you have your stream ID you are almost ready to go. You just need to create an access token. To do so, visit the website https://speckle.xyz/profile , scroll down to Developper Settings and create a new access token. Once it is created save it somwhere where you always find it again since it only shows once!. Further guidence can be found here:https://speckle.guide/dev/tokens.html.\n",
    "\n",
    "When this is done, other people can use your access token to send data (Remember though, they send it through your account (your token is your confidential data))\n",
    "The Output of the script we will build together, will be a link to the chosen stream in the speckle viewer where your objects of choice will be displayed. \n",
    "\n",
    "Now you are ready to start:D"
   ]
  },
  {
   "cell_type": "markdown",
   "metadata": {},
   "source": [
    "First, install the necessary python packages by running these lines in your vscode terminal:\n",
    "\n",
    "* pip install ifcopenshell\n",
    "\n",
    "* pip install specklepy"
   ]
  },
  {
   "cell_type": "markdown",
   "metadata": {},
   "source": [
    "Now you are able to import the different python libraries that you will need in this tutorial:"
   ]
  },
  {
   "cell_type": "code",
   "execution_count": null,
   "metadata": {},
   "outputs": [],
   "source": [
    "import ifcopenshell\n",
    "import ifcopenshell.geom\n",
    "from specklepy.api.client import SpeckleClient\n",
    "from specklepy.objects.geometry import Mesh\n",
    "from specklepy.objects import Base\n",
    "from specklepy.transports.server import ServerTransport\n",
    "from specklepy.api.operations import send\n",
    "import random"
   ]
  },
  {
   "cell_type": "markdown",
   "metadata": {},
   "source": [
    "# 1. Open the IFC file\n",
    "In this tutorial we are going to use the ifc model for structural group of the course 41934 Advanced BIM of 2024, so make sure that you have \n",
    "downloaded the file CES_BLD_24_06_STR.ifc and insert your file path on the following line (you could also use another .ifc file, we just can't make sure that you will not have a missing data issue):"
   ]
  },
  {
   "cell_type": "code",
   "execution_count": 109,
   "metadata": {},
   "outputs": [],
   "source": [
    "ifc_file_path = '/Users/ioschkagautier/Desktop/DTU/Advanced BIM/CES_BLD_24_06_STR.ifc'\n",
    "ifc_file = ifcopenshell.open(ifc_file_path)"
   ]
  },
  {
   "cell_type": "markdown",
   "metadata": {},
   "source": [
    "# 2. Extract all columns + colors\n",
    "Let's begin by extracting the columns from our Ifc model. We also create a main Base object to hold all columns."
   ]
  },
  {
   "cell_type": "code",
   "execution_count": 110,
   "metadata": {},
   "outputs": [],
   "source": [
    "columns = ifc_file.by_type(\"IfcColumn\")\n",
    "if len(columns) == 0:\n",
    "    raise Exception(\"No columns found in the IFC file.\")\n",
    "\n",
    "speckle_columns = Base()"
   ]
  },
  {
   "cell_type": "markdown",
   "metadata": {},
   "source": [
    "We are also going to display them in certain colors, so let's create a dictionary to hold unique colors for each combination of ObjectType (this will be useful when we will have different ObjectTypes, cf. 5. Example 2) and a function that generates a random color in hexadecimal format."
   ]
  },
  {
   "cell_type": "code",
   "execution_count": 111,
   "metadata": {},
   "outputs": [],
   "source": [
    "type_colors = {}\n",
    "\n",
    "def generate_random_color():\n",
    "    return int(f'{random.randint(0, 255):02x}{random.randint(0, 255):02x}{random.randint(0, 255):02x}', 16)"
   ]
  },
  {
   "cell_type": "markdown",
   "metadata": {},
   "source": [
    "# 3. Calculate bounding box dimensions\n",
    "Create a function that is going to return the dimensions of an object from its given vertices by measuring distances between them."
   ]
  },
  {
   "cell_type": "code",
   "execution_count": 112,
   "metadata": {},
   "outputs": [],
   "source": [
    "def calculate_bounding_box(vertices):\n",
    "    if not vertices or not isinstance(vertices, (tuple, list)):\n",
    "        return None, None, None\n",
    "\n",
    "    # Convert vertices from tuple to a list of (x, y, z) tuples\n",
    "    vertices_list = [(vertices[i], vertices[i + 1], vertices[i + 2]) for i in range(0, len(vertices), 3)]\n",
    "\n",
    "    # Extract x, y, z values from the vertices\n",
    "    x_values = [v[0] for v in vertices_list]\n",
    "    y_values = [v[1] for v in vertices_list]\n",
    "    z_values = [v[2] for v in vertices_list]\n",
    "\n",
    "    min_x, max_x = min(x_values), max(x_values)\n",
    "    min_y, max_y = min(y_values), max(y_values)\n",
    "    min_z, max_z = min(z_values), max(z_values)\n",
    "\n",
    "    length = max_x - min_x\n",
    "    width = max_y - min_y\n",
    "    height = max_z - min_z\n",
    "\n",
    "    return length, width, height"
   ]
  },
  {
   "cell_type": "markdown",
   "metadata": {},
   "source": [
    "# 4. Example 1 : one column\n",
    "Let's try by displaying just the first column in Speckle. The following code extract the vertices of the column to then give it to the calculate_bounding_box function to get its geometry. We also make sure to get its ObjectType."
   ]
  },
  {
   "cell_type": "code",
   "execution_count": 113,
   "metadata": {},
   "outputs": [],
   "source": [
    "column = columns[0]\n",
    "settings = ifcopenshell.geom.settings()  # Default settings for geometry extraction\n",
    "shape = ifcopenshell.geom.create_shape(settings, column)  # Extract geometry\n",
    "\n",
    "# Get the geometry vertices and faces\n",
    "vertices = shape.geometry.verts\n",
    "faces = shape.geometry.faces\n",
    "\n",
    "if not vertices or not faces:\n",
    "    print(f\"No valid geometry found for column: {column.Name}\")\n",
    "\n",
    "# Calculate bounding box dimensions to determine dimensions\n",
    "dimensions = calculate_bounding_box(vertices)\n",
    "if dimensions is None:\n",
    "    print(f\"Could not calculate dimensions for column: {column.Name}\")\n",
    "\n",
    "# Store dimensions into variables\n",
    "length, width, height = dimensions\n",
    "length = round(length, 2)\n",
    "width = round(width, 2)\n",
    "height = round(height, 2)\n",
    "\n",
    "# Get ObjectType (or a fallback if not available)\n",
    "object_type = getattr(column, 'ObjectType', None)\n",
    "if not object_type:\n",
    "    object_type = column.Name if column.Name else \"Unnamed\""
   ]
  },
  {
   "cell_type": "markdown",
   "metadata": {},
   "source": [
    "# 4.1 Speckle mesh generation \n",
    "These following lines create a mesh to be able to display the column as a 3D object in Speckle overview."
   ]
  },
  {
   "cell_type": "code",
   "execution_count": null,
   "metadata": {},
   "outputs": [],
   "source": [
    "# Scale the vertices (if needed)\n",
    "scaled_vertices = [v * 1 for v in vertices]  # Scale to meters for Speckle\n",
    "\n",
    "# Format the faces for Speckle\n",
    "formatted_faces = []\n",
    "for i in range(0, len(faces), 3):\n",
    "    formatted_faces.extend([3, faces[i], faces[i + 1], faces[i + 2]])\n",
    "\n",
    "# Create a Mesh for this column\n",
    "speckle_mesh = Mesh(\n",
    "    name=f\"IFC Column - {column.Name}\",\n",
    "    vertices=scaled_vertices,\n",
    "    faces=formatted_faces\n",
    ")"
   ]
  },
  {
   "cell_type": "markdown",
   "metadata": {},
   "source": [
    "# 4.2 Adding color and other attributes"
   ]
  },
  {
   "cell_type": "code",
   "execution_count": 115,
   "metadata": {},
   "outputs": [],
   "source": [
    " # Apply the color to the mesh\n",
    "speckle_mesh.colors = [generate_random_color()] * (len(scaled_vertices) // 3)  # Same color for all vertices\n",
    "\n",
    "# Assign other direct attributes that are going to be displayed in Speckle\n",
    "speckle_mesh['length'] = length\n",
    "speckle_mesh['width'] = width\n",
    "speckle_mesh['height'] = height\n",
    "\n",
    "# Create a Speckle Base object for the column, which includes the mesh and GUID\n",
    "column_object = Base()\n",
    "column_object['mesh'] = speckle_mesh\n",
    "column_object['guid'] = column.GlobalId if column.GlobalId else \"No GUID\"\n",
    "column_object['name'] = column.Name if column.Name else \"Unnamed Column\"\n",
    "column_object['ifc_type'] = column.is_a()  # e.g., IfcColumn\n",
    "column_object['length'] = length  # Add length to the column object\n",
    "column_object['width'] = width  # Add width to the column object\n",
    "column_object['height'] = height  # Add height to the column object\n",
    "column_object['object_type'] = object_type  # Add ObjectType to the column object\n",
    "\n",
    "# Add this column object to the main collection of columns\n",
    "speckle_columns[f'column_{column.GlobalId}'] = column_object"
   ]
  },
  {
   "cell_type": "markdown",
   "metadata": {},
   "source": [
    "# 4.3 Python to Speckle transport\n",
    "The following script is how you send the python data to the Speckle overview and how you can generate a link to easily consult it on your web browser."
   ]
  },
  {
   "cell_type": "code",
   "execution_count": null,
   "metadata": {},
   "outputs": [
    {
     "name": "stdout",
     "output_type": "stream",
     "text": [
      "The first column with color sent to Speckle with object ID: 4ad88747ccf463fddf612ce747668721\n",
      "View it at: https://app.speckle.systems/streams/2a3df00e3e/objects/4ad88747ccf463fddf612ce747668721\n"
     ]
    }
   ],
   "source": [
    "\n",
    "client = SpeckleClient(host=\"app.speckle.systems\")  # Make sure to specify the correct server host (e.g., app.speckle.systems)\n",
    "\n",
    "# Replace this with your actual personal access token (PAT) \n",
    "# Here you can also use default account method and run it with the already implemented token\n",
    "personal_access_token = \"e84c64a17e9103569a55ccb97e2f00526982240229\"  \n",
    "\n",
    "# Authenticate with the token\n",
    "client.authenticate_with_token(personal_access_token)\n",
    "\n",
    "# Set up transport to the stream\n",
    "stream_id = \"2a3df00e3e\"  # Your specified stream ID \n",
    "transport = ServerTransport(client=client, stream_id=stream_id)\n",
    "\n",
    "# Send the column as one object to Speckle\n",
    "object_id = send(base=speckle_columns, transports=[transport])\n",
    "print(f\"The first column with color sent to Speckle with object ID: {object_id}\")\n",
    "\n",
    "# Print the Speckle viewer URL to view the object\n",
    "print(f\"View it at: https://app.speckle.systems/streams/{stream_id}/objects/{object_id}\")"
   ]
  },
  {
   "cell_type": "markdown",
   "metadata": {},
   "source": [
    "# 5. Example 2 : all columns\n",
    "Now you are able to display all the columns in the same Speckle overview by following the same method just by adding a big loop over all columns and also by adaptating one new thing which is the unique key based on each ObjectType since we have different column types."
   ]
  },
  {
   "cell_type": "code",
   "execution_count": 117,
   "metadata": {},
   "outputs": [
    {
     "name": "stdout",
     "output_type": "stream",
     "text": [
      "All columns with colors sent to Speckle with object ID: afe705cecf50a513a093a6c5935bf717\n",
      "View it at: https://app.speckle.systems/streams/2a3df00e3e/objects/afe705cecf50a513a093a6c5935bf717\n"
     ]
    }
   ],
   "source": [
    "for column in columns:\n",
    "\n",
    "    ### 1. EXTRACT COLUMN GEOMETRY\n",
    "    settings = ifcopenshell.geom.settings()\n",
    "    shape = ifcopenshell.geom.create_shape(settings, column)\n",
    "    vertices = shape.geometry.verts\n",
    "    faces = shape.geometry.faces\n",
    "\n",
    "    if not vertices or not faces:\n",
    "        print(f\"No valid geometry found for column: {column.Name}\")\n",
    "        continue\n",
    "\n",
    "    dimensions = calculate_bounding_box(vertices)\n",
    "    if dimensions is None:\n",
    "        print(f\"Could not calculate dimensions for column: {column.Name}\")\n",
    "        continue\n",
    "\n",
    "    length, width, height = dimensions\n",
    "    length = round(length, 2)\n",
    "    width = round(width, 2)\n",
    "    height = round(height, 2)\n",
    "\n",
    "    object_type = getattr(column, 'ObjectType', None)\n",
    "    if not object_type:\n",
    "        object_type = column.Name if column.Name else \"Unnamed\"\n",
    "    \n",
    "\n",
    "    ### 2. COLORS AND SPECKLE MESH GENERATION\n",
    "    key = (object_type)\n",
    "\n",
    "    # Assign a unique color for each key if it doesn't already exist\n",
    "    if key not in type_colors:\n",
    "        type_colors[key] = generate_random_color()  # Assign a random color for each unique key\n",
    "\n",
    "    scaled_vertices = [v * 1 for v in vertices]\n",
    "\n",
    "    formatted_faces = []\n",
    "    for i in range(0, len(faces), 3):\n",
    "        formatted_faces.extend([3, faces[i], faces[i + 1], faces[i + 2]])\n",
    "\n",
    "    speckle_mesh = Mesh(\n",
    "        name=f\"IFC Column - {column.Name}\",\n",
    "        vertices=scaled_vertices,\n",
    "        faces=formatted_faces\n",
    "    )\n",
    "\n",
    "    # Apply the color to the mesh (applying color based on ObjectType)\n",
    "    speckle_mesh.colors = [type_colors[key]] * (len(scaled_vertices) // 3)\n",
    "\n",
    "    speckle_mesh['length'] = length\n",
    "    speckle_mesh['width'] = width\n",
    "    speckle_mesh['height'] = height\n",
    "\n",
    "    column_object = Base()\n",
    "    column_object['mesh'] = speckle_mesh\n",
    "    column_object['guid'] = column.GlobalId if column.GlobalId else \"No GUID\"\n",
    "    column_object['name'] = column.Name if column.Name else \"Unnamed Column\"\n",
    "    column_object['ifc_type'] = column.is_a() \n",
    "    column_object['width'] = width  \n",
    "    column_object['height'] = height \n",
    "    column_object['object_type'] = object_type  \n",
    "\n",
    "    speckle_columns[f'column_{column.GlobalId}'] = column_object\n",
    "\n",
    "client = SpeckleClient(host=\"app.speckle.systems\")\n",
    "\n",
    "# Replace this with your actual personal access token (PAT), could also use default account method\n",
    "personal_access_token = \"e84c64a17e9103569a55ccb97e2f00526982240229\"  \n",
    "\n",
    "client.authenticate_with_token(personal_access_token)\n",
    "\n",
    "stream_id = \"2a3df00e3e\" # Your specified stream ID\n",
    "transport = ServerTransport(client=client, stream_id=stream_id)\n",
    "\n",
    "object_id = send(base=speckle_columns, transports=[transport])\n",
    "print(f\"All columns with colors sent to Speckle with object ID: {object_id}\")\n",
    "print(f\"View it at: https://app.speckle.systems/streams/{stream_id}/objects/{object_id}\")"
   ]
  },
  {
   "cell_type": "markdown",
   "metadata": {},
   "source": [
    "# 6. Example 3 : slabs\n",
    "Finally, let's have a look of the other possibilities, for example with the slabs. We just have to adapt few scaling factors but the principle remains the same.\n"
   ]
  },
  {
   "cell_type": "code",
   "execution_count": 119,
   "metadata": {},
   "outputs": [
    {
     "name": "stdout",
     "output_type": "stream",
     "text": [
      "All floor slabs with colors sent to Speckle with object ID: d5deb8e4e5ec8320ed2da0c3ff559dc1\n",
      "View it at: https://app.speckle.systems/streams/2a3df00e3e/objects/d5deb8e4e5ec8320ed2da0c3ff559dc1\n"
     ]
    }
   ],
   "source": [
    "# Define a scaling factor to convert from millimeters to meters\n",
    "scale_factor = 0.001  # Convert from mm to m\n",
    "\n",
    "# Function to calculate bounding box dimensions with a scaling factor for slabs\n",
    "def calculate_bounding_box(vertices):\n",
    "    if not vertices or not isinstance(vertices, (tuple, list)):\n",
    "        return None, None, None\n",
    "\n",
    "    vertices_list = [(vertices[i], vertices[i + 1], vertices[i + 2]) for i in range(0, len(vertices), 3)]\n",
    "\n",
    "    x_values = [v[0] for v in vertices_list]\n",
    "    y_values = [v[1] for v in vertices_list]\n",
    "    z_values = [v[2] for v in vertices_list]\n",
    "\n",
    "    min_x, max_x = min(x_values), max(x_values)\n",
    "    min_y, max_y = min(y_values), max(y_values)\n",
    "    min_z, max_z = min(z_values), max(z_values)\n",
    "\n",
    "    # Calculate the bounding box dimensions in meters\n",
    "    length = (max_x - min_x) * scale_factor\n",
    "    width = (max_y - min_y) * scale_factor\n",
    "    height = (max_z - min_z) * scale_factor\n",
    "\n",
    "    return length, width, height\n",
    "\n",
    "\n",
    "# 2. Extract only slabs with PredefinedType FLOOR\n",
    "floor_slabs = [slab for slab in ifc_file.by_type(\"IfcSlab\") if slab.PredefinedType == \"FLOOR\"]\n",
    "if len(floor_slabs) == 0:\n",
    "    raise Exception(\"No floor slabs found in the IFC file.\")\n",
    "\n",
    "type_colors = {}\n",
    "\n",
    "speckle_slabs = Base()\n",
    "\n",
    "# Function to calculate the absolute placement in Z direction\n",
    "def get_absolute_z_offset(placement):\n",
    "    if placement is None:\n",
    "        return 0\n",
    "    # Start with the local Z offset\n",
    "    z_offset = placement.RelativePlacement.Location.Coordinates[2]\n",
    "    # If there's a PlacementRelTo, recursively add its offset\n",
    "    if hasattr(placement, 'PlacementRelTo') and placement.PlacementRelTo:\n",
    "        z_offset += get_absolute_z_offset(placement.PlacementRelTo)\n",
    "    return z_offset\n",
    "\n",
    "# 5. Loop over all floor slabs and extract geometry, applying color based on ObjectType\n",
    "for slab in floor_slabs:\n",
    "    settings = ifcopenshell.geom.settings()  \n",
    "    shape = ifcopenshell.geom.create_shape(settings, slab)\n",
    "\n",
    "    vertices = shape.geometry.verts\n",
    "    faces = shape.geometry.faces\n",
    "\n",
    "    if not vertices or not faces:\n",
    "        print(f\"No valid geometry found for slab: {slab.Name}\")\n",
    "        continue  \n",
    "\n",
    "    dimensions = calculate_bounding_box(vertices)\n",
    "    if dimensions is None:\n",
    "        print(f\"Could not calculate dimensions for slab: {slab.Name}\")\n",
    "        continue\n",
    "\n",
    "    length, width, height = dimensions\n",
    "    length = round(length, 2)\n",
    "    width = round(width, 2)\n",
    "    height = round(height, 2)\n",
    "\n",
    "    # Get the slab's absolute placement elevation (Z-coordinate) using the recursive function\n",
    "    placement = slab.ObjectPlacement\n",
    "    z_offset = get_absolute_z_offset(placement) * scale_factor  # Convert Z offset to meters\n",
    "\n",
    "    # Apply the Z offset to all vertices and convert to meters\n",
    "    adjusted_vertices = []\n",
    "    for i in range(0, len(vertices), 3):\n",
    "        adjusted_vertices.extend([\n",
    "            vertices[i] * scale_factor,               # X-coordinate in meters\n",
    "            vertices[i + 1] * scale_factor,           # Y-coordinate in meters\n",
    "            (vertices[i + 2] + z_offset) * scale_factor  # Z-coordinate in meters with offset\n",
    "        ])\n",
    "\n",
    "    object_type = getattr(slab, 'ObjectType', None)\n",
    "    if not object_type:\n",
    "        object_type = slab.Name if slab.Name else \"Unnamed\"\n",
    "\n",
    "    key = (object_type)\n",
    "\n",
    "    if key not in type_colors:\n",
    "        type_colors[key] = generate_random_color() \n",
    "\n",
    "    formatted_faces = []\n",
    "    for i in range(0, len(faces), 3):\n",
    "        formatted_faces.extend([3, faces[i], faces[i + 1], faces[i + 2]])\n",
    "\n",
    "    speckle_mesh = Mesh(\n",
    "        name=f\"IFC Floor Slab - {slab.Name}\",\n",
    "        vertices=adjusted_vertices,\n",
    "        faces=formatted_faces\n",
    "    )\n",
    "\n",
    "    speckle_mesh.colors = [type_colors[key]] * (len(adjusted_vertices) // 3) \n",
    "\n",
    "    speckle_mesh['length'] = length*1000  # Add length as a direct attribute in meters\n",
    "    speckle_mesh['width'] = width*1000  # Add width as a direct attribute in meters\n",
    "\n",
    "    slab_object = Base()\n",
    "    slab_object['mesh'] = speckle_mesh\n",
    "    slab_object['guid'] = slab.GlobalId if slab.GlobalId else \"No GUID\"\n",
    "    slab_object['name'] = slab.Name if slab.Name else \"Unnamed Floor Slab\"\n",
    "    slab_object['ifc_type'] = slab.is_a()  # e.g., IfcSlab\n",
    "    slab_object['length'] = length*1000  # Add length to the slab object in meters\n",
    "    slab_object['width'] = width*1000  # Add width to the slab object in meters\n",
    "    slab_object['object_type'] = object_type  # Add ObjectType to the slab object\n",
    "\n",
    "    # Add this slab object to the main collection of slabs\n",
    "    speckle_slabs[f'slab_{slab.GlobalId}'] = slab_object\n",
    "\n",
    "client = SpeckleClient(host=\"app.speckle.systems\")\n",
    "\n",
    "# Replace this with your actual personal access token (PAT), could also use default account method\n",
    "personal_access_token = \"e84c64a17e9103569a55ccb97e2f00526982240229\"  \n",
    "\n",
    "client.authenticate_with_token(personal_access_token)\n",
    "\n",
    "stream_id = \"2a3df00e3e\"  # Your specified stream ID\n",
    "transport = ServerTransport(client=client, stream_id=stream_id)\n",
    "\n",
    "object_id = send(base=speckle_slabs, transports=[transport])\n",
    "print(f\"All floor slabs with colors sent to Speckle with object ID: {object_id}\")\n",
    "print(f\"View it at: https://app.speckle.systems/streams/{stream_id}/objects/{object_id}\")"
   ]
  }
 ],
 "metadata": {
  "kernelspec": {
   "display_name": "Python 3.12.7 ('new_env_python_3_12')",
   "language": "python",
   "name": "python3"
  },
  "language_info": {
   "codemirror_mode": {
    "name": "ipython",
    "version": 3
   },
   "file_extension": ".py",
   "mimetype": "text/x-python",
   "name": "python",
   "nbconvert_exporter": "python",
   "pygments_lexer": "ipython3",
   "version": "3.12.7"
  },
  "orig_nbformat": 4,
  "vscode": {
   "interpreter": {
    "hash": "94cc7e20fca950b7c8fbd0da57b2a1aba66389d5dab6724cbced6fead57cce2d"
   }
  }
 },
 "nbformat": 4,
 "nbformat_minor": 2
}
